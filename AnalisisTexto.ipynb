{
 "cells": [
  {
   "cell_type": "code",
   "execution_count": null,
   "metadata": {},
   "outputs": [],
   "source": [
    "#!pip install python-docx\n",
    "#!pip install aspose-words"
   ]
  },
  {
   "cell_type": "code",
   "execution_count": 1,
   "metadata": {},
   "outputs": [],
   "source": [
    "import os\n",
    "import docx\n",
    "from docx import Document\n",
    "import re\n",
    "import shutil\n",
    "import zipfile\n",
    "import xml.etree.ElementTree as ET\n",
    "import aspose.words as aw\n",
    "from xml.etree.ElementTree import ParseError"
   ]
  },
  {
   "cell_type": "code",
   "execution_count": 2,
   "metadata": {},
   "outputs": [],
   "source": [
    "#FORMATO - ZZ | z11 .... -> Conclusion sin nombre y comentarios con palabras excluidas\n",
    "#FORMATO - A | A1 | A11 ;;; -> Conclusion con nombre y comentarios normal"
   ]
  },
  {
   "cell_type": "code",
   "execution_count": 3,
   "metadata": {},
   "outputs": [],
   "source": [
    "#Funcion recursiva para leer todos los doc words"
   ]
  },
  {
   "cell_type": "code",
   "execution_count": 4,
   "metadata": {},
   "outputs": [],
   "source": [
    "# ARCHIVO A"
   ]
  },
  {
   "cell_type": "code",
   "execution_count": 5,
   "metadata": {},
   "outputs": [],
   "source": [
    "# LEER RUTA DE ARCHIVO \n",
    "docx_path = 'AI-Redações/RedaçõesDownloaded/R1/Ana Luiza Ferreira Braulio A.docx'\n",
    "docx_path1 = 'AI-Redações/RedaçõesDownloaded/R1/Claudio Gabriel A11.docx'\n",
    "docx_path2 = 'AI-Redações/RedaçõesDownloaded/R1/Érico Breyer de Freitas A.docx'"
   ]
  },
  {
   "cell_type": "code",
   "execution_count": null,
   "metadata": {},
   "outputs": [],
   "source": []
  },
  {
   "cell_type": "code",
   "execution_count": 6,
   "metadata": {},
   "outputs": [
    {
     "data": {
      "text/plain": [
       "'AI-Redações/RedaçõesDownloaded/R1/Ana Luiza Ferreira Braulio A.docx'"
      ]
     },
     "execution_count": 6,
     "metadata": {},
     "output_type": "execute_result"
    }
   ],
   "source": [
    "docx_path"
   ]
  },
  {
   "cell_type": "code",
   "execution_count": null,
   "metadata": {},
   "outputs": [],
   "source": [
    "#doc = aw.Document(docx_path)\n",
    "\n",
    "#comment_start = doc.get_child(aw.NodeType.COMMENT_RANGE_START, 0, True).as_comment_range_start()\n",
    "#comment_end = doc.get_child(aw.NodeType.COMMENT_RANGE_END, 0, True).as_comment_range_end()"
   ]
  },
  {
   "cell_type": "code",
   "execution_count": null,
   "metadata": {},
   "outputs": [],
   "source": [
    "#comment_start"
   ]
  },
  {
   "cell_type": "code",
   "execution_count": 7,
   "metadata": {},
   "outputs": [],
   "source": [
    "def extraer_xml_de_docx(docx_path, output_folder): #CREA CARPETA\n",
    "    # Asegurarse de que la carpeta de salida existe\n",
    "    if not os.path.exists(output_folder):\n",
    "        os.makedirs(output_folder)\n",
    "    with zipfile.ZipFile(docx_path, 'r') as zip_ref:\n",
    "        zip_ref.extractall(output_folder)\n",
    "        \n",
    "def extraer_texto_LIMPIO(docx_path):\n",
    "    doc = docx.Document(docx_path)\n",
    "    texto_completo = []\n",
    "    for para in doc.paragraphs:\n",
    "        texto_completo.append(para.text)\n",
    "    return '\\n'.join(texto_completo)\n",
    "\n",
    "def todo(docx_path):\n",
    "    docToRead = aw.Document(docx_path)\n",
    "    TEXTO = []\n",
    "    for paragraph in docToRead.get_child_nodes(aw.NodeType.PARAGRAPH, True) :    \n",
    "        paragraph = paragraph.as_paragraph()\n",
    "        TEXTO.append(paragraph.to_string(aw.SaveFormat.TEXT))\n",
    "    return TEXTO\n",
    "\n",
    "#EXTRAE LIMPIO\n",
    "def extraer_texto_en_parrafosTOTAL_SINEXCLUIDAS(docx_path):\n",
    "    with zipfile.ZipFile(docx_path) as docx:\n",
    "        xml_content = docx.read('word/document.xml')\n",
    "    try:\n",
    "        tree = ET.ElementTree(ET.fromstring(xml_content))\n",
    "    except ParseError:\n",
    "        return \"Error al analizar el XML\"\n",
    "    parrafos = []\n",
    "    for elem in tree.iter():\n",
    "        if elem.tag.endswith('}p'):\n",
    "            parrafo = []\n",
    "            for subelem in elem.iter():\n",
    "                if subelem.tag.endswith('}t') and subelem.text:\n",
    "                    parrafo.append(subelem.text)\n",
    "            parrafos.append(''.join(parrafo))\n",
    "    return parrafos\n",
    "\n",
    "def extraer_comentarios(docx_path):\n",
    "    with zipfile.ZipFile(docx_path) as docx:\n",
    "        comments_xml = docx.read('word/comments.xml')\n",
    "    tree = ET.fromstring(comments_xml)\n",
    "    comments = []\n",
    "    namespace = '{http://schemas.openxmlformats.org/wordprocessingml/2006/main}'\n",
    "    for comment in tree.iter(namespace + 'comment'):\n",
    "        text = ''.join(t.text for t in comment.iter(namespace + 't') if t.text)\n",
    "        comments.append(text)\n",
    "    return comments\n"
   ]
  },
  {
   "cell_type": "code",
   "execution_count": 8,
   "metadata": {},
   "outputs": [],
   "source": [
    "texto_LIMPIO = extraer_texto_LIMPIO(docx_path)\n",
    "texto_LIMPIO = texto_LIMPIO.splitlines()\n",
    "texto_LIMPIO = [elemento for elemento in texto_LIMPIO if elemento != \"\"]"
   ]
  },
  {
   "cell_type": "code",
   "execution_count": 9,
   "metadata": {},
   "outputs": [
    {
     "data": {
      "text/plain": [
       "['Ana Luiza Ferreira Braulio',\n",
       " 'Email:\\xa0analb2001@hotmail.com',\n",
       " 'Código de identificação: R1N007',\n",
       " 'Com a Terceira Revolução industrial, ocorrida no século XX, muitas tecnologias surgiram, entre elas o celular. Não há dúvidas de que o aparelho facilitou de maneira significativa a vida de muitos indivíduos, principalmente em relação à comunicação à distância. Apesar disso, muitas pessoas, com destaque para os adolescentes e as crianças, estão fazendo um uso inadequado do aparelho. Segundo pesquisas do Centro Médico de Cirurgia Espinhal e Reabilitação de Nova York, as pessoas consultam os dispositivos móveis até 150 vezes ao dia. Esse mau uso da tecnologia tem duas principais consequências e precisa ser combatido.',\n",
       " 'Em primeiro lugar, o uso prolongado do celular pode causar problemas de saúde física e mental. Isso porque a luz emitida pela tela prejudica a visão e provoca insônia. Ademais, a impressão de estar totalmente conectado a muitas pessoas virtualmente gera a diminuição do contato real. Isso, por sua vez, leva à individualização dos jovens, o que pode provocar, juntamente com a falta do sono, problemas como a ansiedade e a depressão.',\n",
       " 'Além disso, a educação dessas crianças e adolescentes se torna cada vez mais difícil com o uso do dispositivo. Tal impasse se dá pela liberdade de acesso a todo tipo de informação. Assim, esses indivíduos recebem a educação não só dos responsáveis, como também da internet, que nem sempre é de boa qualidade. Um exemplo disso é o jogo Baleia Azul, que foi amplamente acessado pelos jovens e estimulava a automutilação e até o suicídio, fazendo muitas vítimas.',\n",
       " 'Portanto, é necessário que os pais ou responsáveis pelos mais novos controlem a utilização do celular. Isso pode ser feito com a diminuição do tempo de acesso a ele e com filtros de informação. Com isso, espera-se evitar jovens depressivos e alienados.',\n",
       " 'Ana Luiza',\n",
       " 'Parabéns pela fluência e objetividade de sua linguagem.',\n",
       " 'Você domina muito bem a estrutura do texto argumentativo, mas evite as ideias calcadas unicamente no senso comum, pois enfraquecem o poder de convencimento do seu leitor. ',\n",
       " 'NOTA: 85']"
      ]
     },
     "execution_count": 9,
     "metadata": {},
     "output_type": "execute_result"
    }
   ],
   "source": [
    "texto_LIMPIO"
   ]
  },
  {
   "cell_type": "code",
   "execution_count": 10,
   "metadata": {},
   "outputs": [],
   "source": [
    "# DESCOMPRIMIR\n",
    "extraer_xml_de_docx(docx_path, 'word')"
   ]
  },
  {
   "cell_type": "code",
   "execution_count": 11,
   "metadata": {},
   "outputs": [],
   "source": [
    "# LEER TODO\n",
    "a=todo(docx_path)"
   ]
  },
  {
   "cell_type": "code",
   "execution_count": 14,
   "metadata": {
    "collapsed": true
   },
   "outputs": [
    {
     "data": {
      "text/plain": [
       "['Evaluation Only. Created with Aspose.Words. Copyright 2003-2023 Aspose Pty Ltd.\\r\\n',\n",
       " 'Ana Luiza Ferreira Braulio\\r\\n',\n",
       " 'Email:\\xa0analb2001@hotmail.com\\r\\n',\n",
       " 'Código de identificação: R1N007\\r\\nTítulo?\\r\\n\\r\\n',\n",
       " 'Título?\\r\\n',\n",
       " '\\r\\n',\n",
       " 'Com a Terceira Revolução industrial, ocorrida no século XX, muitas tecnologias surgiram, entre elas o celular. Não há dúvidas de que o aparelho facilitou de maneira significativa a vida de muitos indivíduos, principalmente em relação à comunicação à\\r\\na\\r\\n distância. Apesar disso, muitas pessoas, com destaque para os adolescentes e as crianças, estão fazendo um uso inadequado do aparelho. Segundo pesquisas do Centro Médico de Cirurgia Espinhal e Reabilitação de Nova York, as pessoas consultam os dispositivos móveis até 150 vezes ao dia. \\r\\nReserve as citações e / ou exemplos para os parágrafos de desenvolvimento\\r\\nEsse mau uso da tecnologia tem duas principais consequências e precisa ser combatido.\\r\\n',\n",
       " 'a\\r\\n',\n",
       " 'Reserve as citações e / ou exemplos para os parágrafos de desenvolvimento\\r\\n',\n",
       " 'Em primeiro lugar, o uso prolongado do celular pode causar problemas de saúde física e mental. Isso porque a luz emitida pela tela prejudica a visão e provoca insônia. Ademais, a impressão de estar totalmente conectado a muitas pessoas virtualmente gera a diminuição do contato real. Isso, por sua vez, leva à individualização dos jovens, o que pode provocar, juntamente com a falta do sono, problemas como a ansiedade e a depressão.\\r\\n',\n",
       " 'Além disso, a educação dessas crianças e adolescentes se torna cada vez mais difícil com o uso do dispositivo. Tal impasse se dá pela liberdade de acesso a todo tipo de informação. Assim, esses indivíduos recebem a educação não só dos responsáveis, como também da internet, que nem sempre é de boa qualidade. Um exemplo disso é o jogo Baleia Azul, que foi amplamente acessado pelos jovens e estimulava a automutilação e até o suicídio, fazendo muitas vítimas.\\r\\n',\n",
       " 'Portanto, é necessário que os pais ou responsáveis pelos mais novos controlem a utilização do celular. Isso pode ser feito com a diminuição do tempo de acesso a ele e com filtros de informação. Com isso, espera-se evitar jovens depressivos e alienados.\\r\\n',\n",
       " '\\r\\n',\n",
       " 'Ana Luiza\\r\\n',\n",
       " 'Parabéns pela fluência e objetividade de sua linguagem.\\r\\n',\n",
       " 'Você domina muito bem a estrutura do texto argumentativo, mas evite as ideias calcadas unicamente no senso comum, pois enfraquecem o poder de convencimento do seu leitor. \\r\\n',\n",
       " 'NOTA: 85\\r\\n',\n",
       " '\\r\\n',\n",
       " 'Created with an evaluation copy of Aspose.Words. To discover the full versions of our APIs please visit: https://products.aspose.com/words/\\r\\n',\n",
       " '\\r\\n']"
      ]
     },
     "execution_count": 14,
     "metadata": {},
     "output_type": "execute_result"
    }
   ],
   "source": [
    "a"
   ]
  },
  {
   "cell_type": "code",
   "execution_count": 12,
   "metadata": {},
   "outputs": [],
   "source": [
    "# LEER COMENTARIOS\n",
    "com = extraer_comentarios(docx_path)\n",
    "# com = comentarios"
   ]
  },
  {
   "cell_type": "code",
   "execution_count": 13,
   "metadata": {},
   "outputs": [
    {
     "data": {
      "text/plain": [
       "['Título?',\n",
       " 'a',\n",
       " 'Reserve as citações e / ou exemplos para os parágrafos de desenvolvimento']"
      ]
     },
     "execution_count": 13,
     "metadata": {},
     "output_type": "execute_result"
    }
   ],
   "source": [
    "com"
   ]
  },
  {
   "cell_type": "code",
   "execution_count": 15,
   "metadata": {},
   "outputs": [],
   "source": [
    "#PREPROCESAMIENTO\n",
    "mi_lista_limpia1 = [elemento.replace(\"\\xa0\", \" \") for elemento in a]\n",
    "mi_lista_limpia1 = [elemento.replace(\"\\r\\n\", \"\") for elemento in mi_lista_limpia1]\n",
    "mi_lista_limpia1 = [elemento for elemento in mi_lista_limpia1 if elemento != \"\"]\n",
    "mi_lista_limpia1 = [elemento for elemento in mi_lista_limpia1 if elemento != \" \"]\n",
    "mi_lista_limpia1 = mi_lista_limpia1[1:-1]\n",
    "resultado = [elemento for elemento in mi_lista_limpia1 if elemento not in com]\n",
    "for i in com:\n",
    "    resultado = [elemento.replace(i, \"\") for elemento in resultado]\n",
    "# resultado = con palabras incluidas y excluidas SIN comentarios"
   ]
  },
  {
   "cell_type": "code",
   "execution_count": 16,
   "metadata": {},
   "outputs": [
    {
     "data": {
      "text/plain": [
       "['Ana Luiza Ferreira Braulio',\n",
       " 'Email: analb2001@hotmail.com',\n",
       " 'Código de identificação: R1N007Título?',\n",
       " 'Título?',\n",
       " 'Com a Terceira Revolução industrial, ocorrida no século XX, muitas tecnologias surgiram, entre elas o celular. Não há dúvidas de que o aparelho facilitou de maneira significativa a vida de muitos indivíduos, principalmente em relação à comunicação àa distância. Apesar disso, muitas pessoas, com destaque para os adolescentes e as crianças, estão fazendo um uso inadequado do aparelho. Segundo pesquisas do Centro Médico de Cirurgia Espinhal e Reabilitação de Nova York, as pessoas consultam os dispositivos móveis até 150 vezes ao dia. Reserve as citações e / ou exemplos para os parágrafos de desenvolvimentoEsse mau uso da tecnologia tem duas principais consequências e precisa ser combatido.',\n",
       " 'a',\n",
       " 'Reserve as citações e / ou exemplos para os parágrafos de desenvolvimento',\n",
       " 'Em primeiro lugar, o uso prolongado do celular pode causar problemas de saúde física e mental. Isso porque a luz emitida pela tela prejudica a visão e provoca insônia. Ademais, a impressão de estar totalmente conectado a muitas pessoas virtualmente gera a diminuição do contato real. Isso, por sua vez, leva à individualização dos jovens, o que pode provocar, juntamente com a falta do sono, problemas como a ansiedade e a depressão.',\n",
       " 'Além disso, a educação dessas crianças e adolescentes se torna cada vez mais difícil com o uso do dispositivo. Tal impasse se dá pela liberdade de acesso a todo tipo de informação. Assim, esses indivíduos recebem a educação não só dos responsáveis, como também da internet, que nem sempre é de boa qualidade. Um exemplo disso é o jogo Baleia Azul, que foi amplamente acessado pelos jovens e estimulava a automutilação e até o suicídio, fazendo muitas vítimas.',\n",
       " 'Portanto, é necessário que os pais ou responsáveis pelos mais novos controlem a utilização do celular. Isso pode ser feito com a diminuição do tempo de acesso a ele e com filtros de informação. Com isso, espera-se evitar jovens depressivos e alienados.',\n",
       " 'Ana Luiza',\n",
       " 'Parabéns pela fluência e objetividade de sua linguagem.',\n",
       " 'Você domina muito bem a estrutura do texto argumentativo, mas evite as ideias calcadas unicamente no senso comum, pois enfraquecem o poder de convencimento do seu leitor. ',\n",
       " 'NOTA: 85']"
      ]
     },
     "execution_count": 16,
     "metadata": {},
     "output_type": "execute_result"
    }
   ],
   "source": [
    "mi_lista_limpia1"
   ]
  },
  {
   "cell_type": "code",
   "execution_count": null,
   "metadata": {},
   "outputs": [],
   "source": [
    "a"
   ]
  },
  {
   "cell_type": "code",
   "execution_count": null,
   "metadata": {},
   "outputs": [],
   "source": [
    "resultado"
   ]
  },
  {
   "cell_type": "code",
   "execution_count": null,
   "metadata": {},
   "outputs": [],
   "source": [
    "# LEER TODO SIN PALABRAS EXCLUIDAS\n",
    "b = extraer_texto_en_parrafosTOTAL_SINEXCLUIDAS(docx_path)\n",
    "resultado2 = [elemento for elemento in b if elemento != \"\"]\n",
    "\n",
    "resultado2 = [elemento.replace(\"\\xa0\", \" \") for elemento in resultado2]\n",
    "resultado2 = [elemento for elemento in resultado2 if elemento != \"\"]\n",
    "resultado2 = [elemento for elemento in resultado2 if elemento != \" \"]\n",
    "# resultado2 = texto solo con palabras incluidas (osea corregidas) SIN comentarios"
   ]
  },
  {
   "cell_type": "code",
   "execution_count": null,
   "metadata": {},
   "outputs": [],
   "source": [
    "resultado2"
   ]
  },
  {
   "cell_type": "code",
   "execution_count": null,
   "metadata": {},
   "outputs": [],
   "source": [
    "#TEMA\n",
    "subcadena1 = \"Redação FGV\"\n",
    "subcadena2 = \"Tema:\"\n",
    "elemento = next((item for item in resultado2 if subcadena1 in item or subcadena2 in item), None)\n",
    "\n",
    "print(elemento) \n",
    "\n",
    "if elemento != None:\n",
    "        tema = resultado2[0]\n",
    "        del resultado2[0]"
   ]
  },
  {
   "cell_type": "code",
   "execution_count": null,
   "metadata": {},
   "outputs": [],
   "source": [
    "resultado2[0]"
   ]
  },
  {
   "cell_type": "code",
   "execution_count": null,
   "metadata": {},
   "outputs": [],
   "source": [
    "#NOME\n",
    "nome = resultado2[0].replace(\"Nome: \", \"\")\n",
    "nome = nome.replace(\"Nome:\", \"\")\n",
    "nome = nome.replace(\"Aluno: \", \"\")\n",
    "nome = nome.replace(\"Aluno:\", \"\")\n",
    "del resultado2[0]"
   ]
  },
  {
   "cell_type": "code",
   "execution_count": null,
   "metadata": {},
   "outputs": [],
   "source": [
    "#CORREO\n",
    "correo = resultado2[0].replace(\"E-mail: \", \"\")\n",
    "correo = correo.replace(\"E-mail:\", \"\")\n",
    "correo = correo.replace(\"Email: \", \"\")\n",
    "correo = correo.replace(\"Email:\", \"\")\n",
    "del resultado2[0]"
   ]
  },
  {
   "cell_type": "code",
   "execution_count": null,
   "metadata": {},
   "outputs": [],
   "source": [
    "#CODIGO\n",
    "codigo = resultado2[0].replace(\"Código de identificação: \", \"\")\n",
    "codigo = codigo.replace(\"Código de identificação:\", \"\")\n",
    "del resultado2[0]"
   ]
  },
  {
   "cell_type": "code",
   "execution_count": null,
   "metadata": {},
   "outputs": [],
   "source": [
    "#NOTA\n",
    "nota = resultado2[-1].replace(\"NOTA: \", \"\")\n",
    "nota = nota.replace(\"nota: \", \"\")\n",
    "del resultado2[-1]"
   ]
  },
  {
   "cell_type": "code",
   "execution_count": null,
   "metadata": {},
   "outputs": [],
   "source": [
    "codigo"
   ]
  },
  {
   "cell_type": "code",
   "execution_count": null,
   "metadata": {},
   "outputs": [],
   "source": [
    "resultado2"
   ]
  },
  {
   "cell_type": "code",
   "execution_count": null,
   "metadata": {},
   "outputs": [],
   "source": [
    "resultado2[-1]"
   ]
  },
  {
   "cell_type": "code",
   "execution_count": null,
   "metadata": {},
   "outputs": [],
   "source": [
    "codigo"
   ]
  },
  {
   "cell_type": "code",
   "execution_count": null,
   "metadata": {},
   "outputs": [],
   "source": [
    "resultado2[0]"
   ]
  },
  {
   "cell_type": "code",
   "execution_count": null,
   "metadata": {},
   "outputs": [],
   "source": [
    "resultado2"
   ]
  },
  {
   "cell_type": "code",
   "execution_count": null,
   "metadata": {},
   "outputs": [],
   "source": [
    "letras_a_buscar = nome"
   ]
  },
  {
   "cell_type": "code",
   "execution_count": null,
   "metadata": {},
   "outputs": [],
   "source": [
    "#indice = next((i for i, item in enumerate(resultado2) if letras_a_buscar in item), None)\n"
   ]
  },
  {
   "cell_type": "code",
   "execution_count": null,
   "metadata": {},
   "outputs": [],
   "source": [
    "nome"
   ]
  },
  {
   "cell_type": "code",
   "execution_count": null,
   "metadata": {},
   "outputs": [],
   "source": [
    "indice = next((i for i in reversed(range(len(resultado2))) if nome.split()[0] in resultado2[i] or nome.split()[0] + \" \" + nome.split()[1] in resultado2[i]), None)"
   ]
  },
  {
   "cell_type": "code",
   "execution_count": null,
   "metadata": {},
   "outputs": [],
   "source": [
    "if indice is not None:\n",
    "    # Dividir la lista en dos\n",
    "    cuerpo = resultado2[:indice]\n",
    "    conclusion = resultado2[indice:]"
   ]
  },
  {
   "cell_type": "code",
   "execution_count": null,
   "metadata": {},
   "outputs": [],
   "source": [
    "cuerpo"
   ]
  },
  {
   "cell_type": "code",
   "execution_count": null,
   "metadata": {},
   "outputs": [],
   "source": [
    "conclusion"
   ]
  },
  {
   "cell_type": "code",
   "execution_count": null,
   "metadata": {},
   "outputs": [],
   "source": [
    "import json"
   ]
  },
  {
   "cell_type": "code",
   "execution_count": null,
   "metadata": {},
   "outputs": [],
   "source": [
    "PALABRAS_EXCLUIDAS"
   ]
  },
  {
   "cell_type": "code",
   "execution_count": null,
   "metadata": {},
   "outputs": [],
   "source": [
    "#ELEMENTOS: comentarios codigo nota cuerpo nome correo tema \n",
    "#           PALABRAS_EXCLUIDAS PALABRAS_EXCLUIDAS\n",
    "\n",
    "#- ALUMNO:\n",
    "#- CORREO:\n",
    "#- CODIGO:\n",
    "#- CUERPO:\n",
    "#    - PARRAFO:\n",
    "#        - INDICE:\n",
    "#- PALABRA-EXCLUIDA:\n",
    "#- PALABRA-INCLUIDA:\n",
    "#- COMENTARIO:\n",
    "#    - INDICE_PARRAFO\n",
    "#- FEEDBACK:\n",
    "#- NOTA:"
   ]
  },
  {
   "cell_type": "code",
   "execution_count": null,
   "metadata": {},
   "outputs": [],
   "source": [
    "data = {\n",
    "    #\"TEMA\" : tema,\n",
    "    \"NOMBRE\": nome,\n",
    "    \"CORREO\": correo,\n",
    "    \"CUERPO\": cuerpo,\n",
    "    \"COMENTARIOS\": com,\n",
    "    \"CONCLUSION\": [{\n",
    "        \"NOTA\": nota,\n",
    "        \"TEXT\": conclusion,\n",
    "     }]\n",
    "}"
   ]
  },
  {
   "cell_type": "code",
   "execution_count": null,
   "metadata": {},
   "outputs": [],
   "source": [
    "data"
   ]
  },
  {
   "cell_type": "code",
   "execution_count": null,
   "metadata": {},
   "outputs": [],
   "source": []
  },
  {
   "cell_type": "code",
   "execution_count": null,
   "metadata": {},
   "outputs": [],
   "source": []
  },
  {
   "cell_type": "code",
   "execution_count": null,
   "metadata": {},
   "outputs": [],
   "source": [
    "####### PARA DOCS Z\n",
    "docx_path1 =  \"AI-Redações/RedaçõesDownloaded/R1/Erick Silvestre  ZZ.docx\""
   ]
  },
  {
   "cell_type": "code",
   "execution_count": null,
   "metadata": {},
   "outputs": [],
   "source": [
    "texto_LIMPIO = extraer_texto_LIMPIO(docx_path1)\n",
    "texto_LIMPIO = texto_LIMPIO.splitlines()\n",
    "texto_LIMPIO = [elemento for elemento in texto_LIMPIO if elemento != \"\"]"
   ]
  },
  {
   "cell_type": "code",
   "execution_count": null,
   "metadata": {},
   "outputs": [],
   "source": [
    "texto_LIMPIO"
   ]
  },
  {
   "cell_type": "code",
   "execution_count": null,
   "metadata": {},
   "outputs": [],
   "source": []
  },
  {
   "cell_type": "code",
   "execution_count": null,
   "metadata": {},
   "outputs": [],
   "source": []
  },
  {
   "cell_type": "code",
   "execution_count": null,
   "metadata": {},
   "outputs": [],
   "source": []
  },
  {
   "cell_type": "code",
   "execution_count": null,
   "metadata": {},
   "outputs": [],
   "source": []
  },
  {
   "cell_type": "code",
   "execution_count": null,
   "metadata": {},
   "outputs": [],
   "source": []
  },
  {
   "cell_type": "code",
   "execution_count": null,
   "metadata": {},
   "outputs": [],
   "source": [
    "# OBTENER PALABRAS EXCLUIDAS\n",
    "PALABRAS_EXCLUIDAS = []\n",
    "for s1, s2 in zip(resultado, resultado2):\n",
    "    palabras_s1 = s1.split()\n",
    "    palabras_s2 = s2.split()\n",
    "    palabras_restantes = [palabra for palabra in palabras_s1 if palabra not in palabras_s2]\n",
    "    frase_resultante = ' '.join(palabras_restantes)\n",
    "    PALABRAS_EXCLUIDAS.extend(frase_resultante.split())\n",
    "\n",
    "print(PALABRAS_EXCLUIDAS) "
   ]
  },
  {
   "cell_type": "code",
   "execution_count": null,
   "metadata": {},
   "outputs": [],
   "source": [
    "# OBTENER PALABRAS INCLUIDAS\n",
    "PALABRAS_INCLUIDAS = []\n",
    "for s1, s2 in zip(resultado2, texto_LIMPIO):\n",
    "    palabras_s1 = s1.split()\n",
    "    palabras_s2 = s2.split()\n",
    "    palabras_restantes = [palabra for palabra in palabras_s1 if palabra not in palabras_s2]\n",
    "    frase_resultante = ' '.join(palabras_restantes)\n",
    "    PALABRAS_INCLUIDAS.extend(frase_resultante.split())\n",
    "print(PALABRAS_INCLUIDAS) "
   ]
  },
  {
   "cell_type": "code",
   "execution_count": null,
   "metadata": {},
   "outputs": [],
   "source": [
    "# seleccionar y dividir cuerpo titulo etc DEL resultado 2"
   ]
  },
  {
   "cell_type": "code",
   "execution_count": null,
   "metadata": {},
   "outputs": [],
   "source": [
    "resultado2"
   ]
  },
  {
   "cell_type": "code",
   "execution_count": null,
   "metadata": {},
   "outputs": [],
   "source": [
    "titulo = resultado2[0]\n",
    "print(titulo)\n",
    "correo = resultado2[1]\n",
    "print(correo)\n",
    "cod = resultado[2]\n",
    "print(cod)\n",
    "nota = resultado[-1]\n",
    "print(nota)"
   ]
  },
  {
   "cell_type": "code",
   "execution_count": null,
   "metadata": {},
   "outputs": [],
   "source": []
  },
  {
   "cell_type": "code",
   "execution_count": null,
   "metadata": {},
   "outputs": [],
   "source": []
  },
  {
   "cell_type": "code",
   "execution_count": null,
   "metadata": {},
   "outputs": [],
   "source": [
    "#q = set(mi_lista_limpia1) - set(com)"
   ]
  },
  {
   "cell_type": "code",
   "execution_count": null,
   "metadata": {},
   "outputs": [],
   "source": [
    "#mi_lista_limpia1[5]"
   ]
  },
  {
   "cell_type": "code",
   "execution_count": null,
   "metadata": {},
   "outputs": [],
   "source": [
    "mi_lista_limpia2"
   ]
  },
  {
   "cell_type": "code",
   "execution_count": null,
   "metadata": {},
   "outputs": [],
   "source": [
    "resultado = [elemento for elemento in mi_lista_limpia1 if elemento not in com]"
   ]
  },
  {
   "cell_type": "code",
   "execution_count": null,
   "metadata": {},
   "outputs": [],
   "source": [
    "for i in com:\n",
    "    resultado = [elemento.replace(i, \"\") for elemento in resultado]"
   ]
  },
  {
   "cell_type": "code",
   "execution_count": null,
   "metadata": {},
   "outputs": [],
   "source": [
    "resultado"
   ]
  },
  {
   "cell_type": "code",
   "execution_count": null,
   "metadata": {},
   "outputs": [],
   "source": [
    "resultado1 = [elemento.replace(com[0], \"\") for elemento in resultado]"
   ]
  },
  {
   "cell_type": "code",
   "execution_count": null,
   "metadata": {},
   "outputs": [],
   "source": [
    "# ENCONTRAR PALABRAS EXCLUIDAS"
   ]
  },
  {
   "cell_type": "code",
   "execution_count": null,
   "metadata": {},
   "outputs": [],
   "source": []
  },
  {
   "cell_type": "code",
   "execution_count": null,
   "metadata": {},
   "outputs": [],
   "source": []
  },
  {
   "cell_type": "code",
   "execution_count": null,
   "metadata": {},
   "outputs": [],
   "source": []
  },
  {
   "cell_type": "code",
   "execution_count": null,
   "metadata": {},
   "outputs": [],
   "source": []
  },
  {
   "cell_type": "code",
   "execution_count": null,
   "metadata": {},
   "outputs": [],
   "source": [
    "\n",
    "def encontrar_comment_range_start(comentario):\n",
    "    # Recorrer hacia atrás desde el comentario hasta encontrar CommentRangeStart\n",
    "    nodo_actual = comentario.previous_sibling\n",
    "    while nodo_actual is not None:\n",
    "        if nodo_actual.node_type == aw.NodeType.COMMENT_RANGE_START:\n",
    "            return nodo_actual\n",
    "        nodo_actual = nodo_actual.previous_sibling\n",
    "    return None\n",
    "\n",
    "def encontrar_comment_range_end(comentario):\n",
    "    # Recorrer hacia adelante desde el comentario hasta encontrar CommentRangeEnd\n",
    "    nodo_actual = comentario.previous_sibling #next_sibling\n",
    "    while nodo_actual is not None:\n",
    "        if nodo_actual.node_type == aw.NodeType.COMMENT_RANGE_END:\n",
    "            return nodo_actual\n",
    "        nodo_actual = nodo_actual.next_sibling\n",
    "    return None\n",
    "\n",
    "def extraer_texto_entre_nodos(doc, nodo_inicio, nodo_fin):\n",
    "    # Extraer el texto entre dos nodos\n",
    "    texto = []\n",
    "    nodo_actual = nodo_inicio.next_sibling\n",
    "    while nodo_actual is not None and nodo_actual != nodo_fin:\n",
    "        if nodo_actual.node_type == aw.NodeType.RUN:\n",
    "            texto.append(nodo_actual.get_text())\n",
    "        nodo_actual = nodo_actual.next_sibling\n",
    "    return ''.join(texto)"
   ]
  },
  {
   "cell_type": "code",
   "execution_count": null,
   "metadata": {},
   "outputs": [],
   "source": []
  }
 ],
 "metadata": {
  "kernelspec": {
   "display_name": "Python 3",
   "language": "python",
   "name": "python3"
  },
  "language_info": {
   "codemirror_mode": {
    "name": "ipython",
    "version": 3
   },
   "file_extension": ".py",
   "mimetype": "text/x-python",
   "name": "python",
   "nbconvert_exporter": "python",
   "pygments_lexer": "ipython3",
   "version": "3.7.6"
  }
 },
 "nbformat": 4,
 "nbformat_minor": 4
}
